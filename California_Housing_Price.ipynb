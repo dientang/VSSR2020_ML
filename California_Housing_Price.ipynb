{
  "nbformat": 4,
  "nbformat_minor": 0,
  "metadata": {
    "colab": {
      "name": "California Housing Price.ipynb",
      "provenance": [],
      "authorship_tag": "ABX9TyO3KFw4zbKVY1vop78fo3Q0",
      "include_colab_link": true
    },
    "kernelspec": {
      "name": "python3",
      "display_name": "Python 3"
    }
  },
  "cells": [
    {
      "cell_type": "markdown",
      "metadata": {
        "id": "view-in-github",
        "colab_type": "text"
      },
      "source": [
        "<a href=\"https://colab.research.google.com/github/dientang/VSSR2020_ML/blob/master/California_Housing_Price.ipynb\" target=\"_parent\"><img src=\"https://colab.research.google.com/assets/colab-badge.svg\" alt=\"Open In Colab\"/></a>"
      ]
    },
    {
      "cell_type": "markdown",
      "metadata": {
        "id": "pH8bcdAY0OOJ",
        "colab_type": "text"
      },
      "source": [
        "Use Random Forest model to predict housing price, using California Housing Price dataset"
      ]
    },
    {
      "cell_type": "code",
      "metadata": {
        "id": "1QOMsVbrzKT_",
        "colab_type": "code",
        "colab": {
          "base_uri": "https://localhost:8080/",
          "height": 34
        },
        "outputId": "9ca2d7a0-7a50-4049-ba15-a5397065ff30"
      },
      "source": [
        "print(\"hello world!\")"
      ],
      "execution_count": 1,
      "outputs": [
        {
          "output_type": "stream",
          "text": [
            "hello world!\n"
          ],
          "name": "stdout"
        }
      ]
    },
    {
      "cell_type": "code",
      "metadata": {
        "id": "e8UgaHNy0Z8_",
        "colab_type": "code",
        "colab": {}
      },
      "source": [
        ""
      ],
      "execution_count": null,
      "outputs": []
    }
  ]
}